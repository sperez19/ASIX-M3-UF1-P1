{
  "cells": [
    {
      "cell_type": "markdown",
      "metadata": {
        "id": "view-in-github",
        "colab_type": "text"
      },
      "source": [
        "<a href=\"https://colab.research.google.com/github/sperez19/ASIX-M3-UF1-P1/blob/main/p_python_basics_01.ipynb\" target=\"_parent\"><img src=\"https://colab.research.google.com/assets/colab-badge.svg\" alt=\"Open In Colab\"/></a>"
      ]
    },
    {
      "cell_type": "markdown",
      "id": "26a1c0e9-5d07-4e37-9a6e-b9ebabb0dda8",
      "metadata": {
        "id": "26a1c0e9-5d07-4e37-9a6e-b9ebabb0dda8"
      },
      "source": [
        "# Fonaments de programació amb python - Exercicis avaluables"
      ]
    },
    {
      "cell_type": "markdown",
      "id": "7794216b-13eb-47ba-b807-b78d89524fd5",
      "metadata": {
        "id": "7794216b-13eb-47ba-b807-b78d89524fd5"
      },
      "source": [
        "## Exercici 1 - (3 punts)\n",
        "\n",
        "Tenint en compte el codi que es mostra a continuació fes el que es demana a cada apartat\n",
        "\n",
        "```\n",
        "mes_30 = [\"Febrer\",\"Abril\",\"Juny\",\"Setembre\",\"Novembre\"]\n",
        "mes_31 = [\"Gener\", \"Març\", \"Maig\",\"Juliol\",\"Agost\",\"Octubre\",\"Desembre\"]\n",
        "dies = [\"dilluns\",\"dimarts\",\"dimecres\",\"dijous\",\"divendres\",\"dissabte\",\"diumenge\"]\n",
        "```\n",
        "\n"
      ]
    },
    {
      "cell_type": "markdown",
      "id": "cf37de59-0873-4bd3-945e-f786958b2a51",
      "metadata": {
        "id": "cf37de59-0873-4bd3-945e-f786958b2a51"
      },
      "source": [
        "#### a) (1 punt) \n",
        "Fes un programa que pregunti a l’usuari un mes i es mostri per pantalla quina posició ocupa de la llista corresponent. En aquest apartat no tinguis en compte la llista de dies.\n"
      ]
    },
    {
      "cell_type": "code",
      "execution_count": 64,
      "id": "e954437e-56a5-4995-bb5b-3987cfdeb22e",
      "metadata": {
        "execution": {
          "iopub.execute_input": "2022-11-14T16:14:27.895955Z",
          "iopub.status.busy": "2022-11-14T16:14:27.895732Z",
          "iopub.status.idle": "2022-11-14T16:14:27.898923Z",
          "shell.execute_reply": "2022-11-14T16:14:27.898276Z",
          "shell.execute_reply.started": "2022-11-14T16:14:27.895937Z"
        },
        "colab": {
          "base_uri": "https://localhost:8080/"
        },
        "id": "e954437e-56a5-4995-bb5b-3987cfdeb22e",
        "outputId": "2b96300f-3efa-4d06-9eef-d85aeaf7d761"
      },
      "outputs": [
        {
          "output_type": "stream",
          "name": "stdout",
          "text": [
            "dime un mes: Abril\n",
            "numero 1 de la lista mes_30\n",
            "numero 0 de la lista mes_31\n"
          ]
        }
      ],
      "source": [
        "mes_30 = [\"Febrer\",\"Abril\",\"Juny\",\"Setembre\",\"Novembre\"]\n",
        "mes_31 = [\"Gener\", \"Març\", \"Maig\",\"Juliol\",\"Agost\",\"Octubre\",\"Desembre\"]\n",
        "y = input(\"dime un mes: \")\n"
      ]
    },
    {
      "cell_type": "markdown",
      "id": "dd43e781-a881-4e4d-ad46-afc3fd8c3561",
      "metadata": {
        "id": "dd43e781-a881-4e4d-ad46-afc3fd8c3561"
      },
      "source": [
        "#### b) (1 punt)\n",
        "\n",
        "Afegeix al programa el codi necessari per a que es pregunti a l’usuari un dia de la setmana que serà el dia en el qual el mes comenci. Tot seguit, realitza un càlcul que determini en quin dia de la setmana començarà el següent més tenint en compte si el mes es de 30 o 31 dies. Per exemple, ha de quedar així:\n",
        "\n",
        "![](images/mesos.png)"
      ]
    },
    {
      "cell_type": "code",
      "execution_count": null,
      "id": "b63309d6-d4f7-49bf-80d4-0f3aecbffaad",
      "metadata": {
        "execution": {
          "iopub.execute_input": "2022-11-14T16:14:27.895955Z",
          "iopub.status.busy": "2022-11-14T16:14:27.895732Z",
          "iopub.status.idle": "2022-11-14T16:14:27.898923Z",
          "shell.execute_reply": "2022-11-14T16:14:27.898276Z",
          "shell.execute_reply.started": "2022-11-14T16:14:27.895937Z"
        },
        "id": "b63309d6-d4f7-49bf-80d4-0f3aecbffaad"
      },
      "outputs": [],
      "source": [
        "# TODO"
      ]
    },
    {
      "cell_type": "markdown",
      "id": "e8b555bc-6867-46bc-8326-79f2d0041c8b",
      "metadata": {
        "id": "e8b555bc-6867-46bc-8326-79f2d0041c8b"
      },
      "source": [
        "#### c) (1 punt) \n",
        "Realitza els canvis pertinents per a tenir en compte que Febrer té 28 dies:"
      ]
    },
    {
      "cell_type": "code",
      "execution_count": null,
      "id": "130c8d7b-e03c-4bea-b048-a51a2ffb3dc0",
      "metadata": {
        "execution": {
          "iopub.execute_input": "2022-11-14T16:21:20.149788Z",
          "iopub.status.busy": "2022-11-14T16:21:20.149391Z",
          "iopub.status.idle": "2022-11-14T16:21:20.152579Z",
          "shell.execute_reply": "2022-11-14T16:21:20.151888Z",
          "shell.execute_reply.started": "2022-11-14T16:21:20.149769Z"
        },
        "id": "130c8d7b-e03c-4bea-b048-a51a2ffb3dc0"
      },
      "outputs": [],
      "source": [
        "# TODO"
      ]
    },
    {
      "cell_type": "markdown",
      "id": "446157b0-06f7-444d-bbd7-54abbfaf2594",
      "metadata": {
        "id": "446157b0-06f7-444d-bbd7-54abbfaf2594"
      },
      "source": [
        "## Exercici 2 – (3 punts) \n",
        "\n",
        "Una família de programadors vol desenvolupar un programa que enregistri els regals que han fet i el preu que s’han gastat per saber el balanç total de Nadal.\n"
      ]
    },
    {
      "cell_type": "markdown",
      "id": "05b6cd30-68d5-4240-bdd0-935c37d655be",
      "metadata": {
        "id": "05b6cd30-68d5-4240-bdd0-935c37d655be"
      },
      "source": [
        "#### a) (1 punt) \n",
        "Crea un programa que pregunti a l’usuari un producte i un preu i els afegeixi en un diccionari fins que l’usuari no en vulgui afegir més. Ha de quedar de la següent manera tenint en compte que les key son els productes i els value els preus.\n",
        "\n",
        "![](images/productes_1.png)"
      ]
    },
    {
      "cell_type": "code",
      "execution_count": 16,
      "id": "14081277-f7ec-4495-87c7-a045d75fe40e",
      "metadata": {
        "execution": {
          "iopub.execute_input": "2022-11-14T16:23:22.093407Z",
          "iopub.status.busy": "2022-11-14T16:23:22.092808Z",
          "iopub.status.idle": "2022-11-14T16:23:22.096137Z",
          "shell.execute_reply": "2022-11-14T16:23:22.095505Z",
          "shell.execute_reply.started": "2022-11-14T16:23:22.093389Z"
        },
        "colab": {
          "base_uri": "https://localhost:8080/"
        },
        "id": "14081277-f7ec-4495-87c7-a045d75fe40e",
        "outputId": "2b1b73e8-9544-406b-974f-2362efde9e9a"
      },
      "outputs": [
        {
          "output_type": "stream",
          "name": "stdout",
          "text": [
            "Quieres añadir un producto?: si\n",
            "Dame un producto: pera\n",
            "Dame un precio: 2\n",
            "Quieres añadir más productos?: no\n",
            "{'pera': 2}\n"
          ]
        }
      ],
      "source": [
        "dicci = {}\n",
        "i = input(\"Quieres añadir un producto?: \")\n",
        "while i !=\"no\":\n",
        "  producto = input(\"Dame un producto: \")\n",
        "  precio = int(input(\"Dame un precio: \"))\n",
        "  dicci.update({producto : precio})\n",
        "  i = input(\"Quieres añadir más productos?: \")\n",
        "else:\n",
        "  print(dicci)"
      ]
    },
    {
      "cell_type": "markdown",
      "id": "319eb68b-6808-41e5-a21b-b2edbc032220",
      "metadata": {
        "id": "319eb68b-6808-41e5-a21b-b2edbc032220"
      },
      "source": [
        "#### b) (1 punt) \n",
        "Afegeix al programa anterior el codi corresponent per a que, un cop s’hagin afegit tots els productes, es calculi el cost monetari total de tots els productes. Un cop es tingui, tenint en compte que la familia disposa d’un total de 40 € per als regals, s’ha de mostrar per pantalla si la família ha gastat més del que tenia o si pel contrari li sobren diners indicant quants diners li sobren o quants de més s’han gastat.\n",
        "\n",
        "![](images/productes_2.png)"
      ]
    },
    {
      "cell_type": "code",
      "execution_count": 45,
      "id": "896e82bc-59ef-4f2e-836c-11d10bd5afc7",
      "metadata": {
        "colab": {
          "base_uri": "https://localhost:8080/",
          "height": 315
        },
        "id": "896e82bc-59ef-4f2e-836c-11d10bd5afc7",
        "outputId": "3e527a25-3ba0-4604-e4a4-5060c91c7ffd"
      },
      "outputs": [
        {
          "name": "stdout",
          "output_type": "stream",
          "text": [
            "Quieres añadir un producto?: si\n",
            "Dame un producto: pera\n",
            "Dame un precio: 2\n",
            "Quieres añadir más productos?: si\n"
          ]
        },
        {
          "output_type": "error",
          "ename": "AttributeError",
          "evalue": "ignored",
          "traceback": [
            "\u001b[0;31m---------------------------------------------------------------------------\u001b[0m",
            "\u001b[0;31mAttributeError\u001b[0m                            Traceback (most recent call last)",
            "\u001b[0;32m<ipython-input-45-386b401da146>\u001b[0m in \u001b[0;36m<module>\u001b[0;34m\u001b[0m\n\u001b[1;32m      7\u001b[0m   \u001b[0mdicci\u001b[0m\u001b[0;34m.\u001b[0m\u001b[0mupdate\u001b[0m\u001b[0;34m(\u001b[0m\u001b[0;34m{\u001b[0m\u001b[0mproducto\u001b[0m \u001b[0;34m:\u001b[0m \u001b[0mprecio\u001b[0m\u001b[0;34m}\u001b[0m\u001b[0;34m)\u001b[0m\u001b[0;34m\u001b[0m\u001b[0;34m\u001b[0m\u001b[0m\n\u001b[1;32m      8\u001b[0m   \u001b[0mi\u001b[0m \u001b[0;34m=\u001b[0m \u001b[0minput\u001b[0m\u001b[0;34m(\u001b[0m\u001b[0;34m\"Quieres añadir más productos?: \"\u001b[0m\u001b[0;34m)\u001b[0m\u001b[0;34m\u001b[0m\u001b[0;34m\u001b[0m\u001b[0m\n\u001b[0;32m----> 9\u001b[0;31m   \u001b[0mdicci\u001b[0m\u001b[0;34m.\u001b[0m\u001b[0mcount\u001b[0m\u001b[0;34m(\u001b[0m\u001b[0mprecio\u001b[0m\u001b[0;34m)\u001b[0m\u001b[0;34m\u001b[0m\u001b[0;34m\u001b[0m\u001b[0m\n\u001b[0m\u001b[1;32m     10\u001b[0m \u001b[0;32melse\u001b[0m\u001b[0;34m:\u001b[0m\u001b[0;34m\u001b[0m\u001b[0;34m\u001b[0m\u001b[0m\n\u001b[1;32m     11\u001b[0m   \u001b[0mprint\u001b[0m\u001b[0;34m(\u001b[0m\u001b[0mdicci\u001b[0m\u001b[0;34m)\u001b[0m\u001b[0;34m\u001b[0m\u001b[0;34m\u001b[0m\u001b[0m\n",
            "\u001b[0;31mAttributeError\u001b[0m: 'dict' object has no attribute 'count'"
          ]
        }
      ],
      "source": [
        "\n"
      ]
    },
    {
      "cell_type": "markdown",
      "id": "b13a550c-2e1a-44d6-bcf8-06313a17403a",
      "metadata": {
        "id": "b13a550c-2e1a-44d6-bcf8-06313a17403a"
      },
      "source": [
        "#### c) (1 punt) \n",
        "No tinguis en compte ara l’apartat b) de l’exercici i modifica només l’apartat a) per a crear un diccionari de famílies on les key són les famílies representades per un nombre i els seus valor són un diccionari amb els productes com en l’apartat a). Ha d’anar preguntant si es vol afegir una nova família fins que es digui que no. Ha de quedar així:\n",
        "![](images/productes_3.png)\n"
      ]
    },
    {
      "cell_type": "code",
      "source": [
        "dicci = {}\n",
        "dicci2 = {}\n",
        "i = input(\"Quieres añadir un producto?: \")\n",
        "while i !=\"no\":\n",
        "  producto = input(\"Dame un producto: \")\n",
        "  precio = int(input(\"Dame un precio: \"))\n",
        "  dicci.update({producto : precio})\n",
        "  i = input(\"Quieres añadir más productos?: \")\n",
        "else:\n",
        "  print(dicci)"
      ],
      "metadata": {
        "id": "hPhm8syk7PCF"
      },
      "id": "hPhm8syk7PCF",
      "execution_count": null,
      "outputs": []
    },
    {
      "cell_type": "markdown",
      "id": "a298030c-7521-4821-b4e5-f8ebb7d91bee",
      "metadata": {
        "id": "a298030c-7521-4821-b4e5-f8ebb7d91bee"
      },
      "source": [
        "## Exercici 3 - (4 punts)\n",
        "\n",
        "Donat el següent diccionari relatiu a un camp de cultiu, realitza els següents apartats:\n",
        "\n",
        "```\n",
        "camp = {\n",
        "0:[\"-\",\"-\",\"-\",\"-\",\"-\",\"-\",\"-\",\"-\",\"-\"],\n",
        "1:[\"-\",\"-\",\"-\",\"-\",\"-\",\"-\",\"-\",\"-\",\"-\"],\n",
        "2:[\"-\",\"-\",\"-\",\"-\",\"-\",\"-\",\"-\",\"-\",\"-\"],\n",
        "3:[\"-\",\"-\",\"-\",\"-\",\"-\",\"-\",\"-\",\"-\",\"-\"],\n",
        "4:[\"-\",\"-\",\"-\",\"-\",\"-\",\"-\",\"-\",\"-\",\"-\"],\n",
        "5:[\"-\",\"-\",\"-\",\"-\",\"-\",\"-\",\"-\",\"-\",\"-\"],\n",
        "6:[\"-\",\"-\",\"-\",\"-\",\"-\",\"-\",\"-\",\"-\",\"-\"],\n",
        "7:[\"-\",\"-\",\"-\",\"-\",\"-\",\"-\",\"-\",\"-\",\"-\"],\n",
        "8:[\"-\",\"-\",\"-\",\"-\",\"-\",\"-\",\"-\",\"-\",\"-\"],\n",
        "}\n",
        "```\n"
      ]
    },
    {
      "cell_type": "markdown",
      "id": "76d4e987-7f55-46a4-99ec-cc076f67378f",
      "metadata": {
        "id": "76d4e987-7f55-46a4-99ec-cc076f67378f"
      },
      "source": [
        "#### a) (1 punt)\n",
        "Desenvolupa un codi que mostri el camp de la següent manera:\n",
        "\n",
        "![](images/camp.png)"
      ]
    },
    {
      "cell_type": "code",
      "execution_count": 57,
      "id": "4a437290-4c66-4723-b425-ea9b9d9d4492",
      "metadata": {
        "execution": {
          "iopub.execute_input": "2022-11-14T16:35:19.112290Z",
          "iopub.status.busy": "2022-11-14T16:35:19.111736Z",
          "iopub.status.idle": "2022-11-14T16:35:19.115215Z",
          "shell.execute_reply": "2022-11-14T16:35:19.114497Z",
          "shell.execute_reply.started": "2022-11-14T16:35:19.112271Z"
        },
        "colab": {
          "base_uri": "https://localhost:8080/",
          "height": 243
        },
        "id": "4a437290-4c66-4723-b425-ea9b9d9d4492",
        "outputId": "b05ec692-32e8-4147-a9f8-387e601e5ad5"
      },
      "outputs": [
        {
          "output_type": "error",
          "ename": "TypeError",
          "evalue": "ignored",
          "traceback": [
            "\u001b[0;31m---------------------------------------------------------------------------\u001b[0m",
            "\u001b[0;31mTypeError\u001b[0m                                 Traceback (most recent call last)",
            "\u001b[0;32m<ipython-input-57-4882077560f9>\u001b[0m in \u001b[0;36m<module>\u001b[0;34m\u001b[0m\n\u001b[1;32m     12\u001b[0m \u001b[0;32mfor\u001b[0m \u001b[0mx\u001b[0m \u001b[0;32min\u001b[0m \u001b[0mcamp\u001b[0m\u001b[0;34m:\u001b[0m\u001b[0;34m\u001b[0m\u001b[0;34m\u001b[0m\u001b[0m\n\u001b[1;32m     13\u001b[0m   \u001b[0;32mfor\u001b[0m \u001b[0mi\u001b[0m \u001b[0;32min\u001b[0m \u001b[0;34m[\u001b[0m\u001b[0mx\u001b[0m\u001b[0;34m]\u001b[0m\u001b[0;34m:\u001b[0m\u001b[0;34m\u001b[0m\u001b[0;34m\u001b[0m\u001b[0m\n\u001b[0;32m---> 14\u001b[0;31m     \u001b[0mcamp\u001b[0m\u001b[0;34m.\u001b[0m\u001b[0mpop\u001b[0m\u001b[0;34m[\u001b[0m\u001b[0;36m0\u001b[0m\u001b[0;34m]\u001b[0m\u001b[0;34m+\u001b[0m\u001b[0;36m2\u001b[0m\u001b[0;34m\u001b[0m\u001b[0;34m\u001b[0m\u001b[0m\n\u001b[0m\u001b[1;32m     15\u001b[0m     \u001b[0mprint\u001b[0m\u001b[0;34m(\u001b[0m\u001b[0mi\u001b[0m\u001b[0;34m)\u001b[0m\u001b[0;34m\u001b[0m\u001b[0;34m\u001b[0m\u001b[0m\n\u001b[1;32m     16\u001b[0m \u001b[0;34m\u001b[0m\u001b[0m\n",
            "\u001b[0;31mTypeError\u001b[0m: 'builtin_function_or_method' object is not subscriptable"
          ]
        }
      ],
      "source": [
        "camp = {\n",
        "0:[\"-\",\"-\",\"-\",\"-\",\"-\",\"-\",\"-\",\"-\",\"-\"],\n",
        "1:[\"-\",\"-\",\"-\",\"-\",\"-\",\"-\",\"-\",\"-\",\"-\"],\n",
        "2:[\"-\",\"-\",\"-\",\"-\",\"-\",\"-\",\"-\",\"-\",\"-\"],\n",
        "3:[\"-\",\"-\",\"-\",\"-\",\"-\",\"-\",\"-\",\"-\",\"-\"],\n",
        "4:[\"-\",\"-\",\"-\",\"-\",\"-\",\"-\",\"-\",\"-\",\"-\"],\n",
        "5:[\"-\",\"-\",\"-\",\"-\",\"-\",\"-\",\"-\",\"-\",\"-\"],\n",
        "6:[\"-\",\"-\",\"-\",\"-\",\"-\",\"-\",\"-\",\"-\",\"-\"],\n",
        "7:[\"-\",\"-\",\"-\",\"-\",\"-\",\"-\",\"-\",\"-\",\"-\"],\n",
        "8:[\"-\",\"-\",\"-\",\"-\",\"-\",\"-\",\"-\",\"-\",\"-\"],\n",
        "\n",
        "\n"
      ]
    },
    {
      "cell_type": "markdown",
      "id": "6a421fc3-83d0-4e1f-b8c9-f7a313654f89",
      "metadata": {
        "id": "6a421fc3-83d0-4e1f-b8c9-f7a313654f89"
      },
      "source": [
        "#### b) (1 punt) \n",
        "Desenvolupa un codi que, en base a una fila i una columna introduides per l'usuari, planti un tomàquet (T), una patata (P) o un enciam (E) escollides per l'usuari en la posició indicada. Com a exemple, el camp ha de quedar així:\n",
        "\n",
        "![](images/tomaquet.png)"
      ]
    },
    {
      "cell_type": "code",
      "execution_count": null,
      "id": "abf3892b-d07e-4bb2-88fa-e4bdd6b17f5e",
      "metadata": {
        "execution": {
          "iopub.execute_input": "2022-11-14T16:09:54.774371Z",
          "iopub.status.busy": "2022-11-14T16:09:54.774131Z",
          "iopub.status.idle": "2022-11-14T16:09:54.777699Z",
          "shell.execute_reply": "2022-11-14T16:09:54.777017Z",
          "shell.execute_reply.started": "2022-11-14T16:09:54.774327Z"
        },
        "id": "abf3892b-d07e-4bb2-88fa-e4bdd6b17f5e"
      },
      "outputs": [],
      "source": [
        "# TODO"
      ]
    },
    {
      "cell_type": "markdown",
      "id": "04177164-9d79-460e-8594-17c5a1309380",
      "metadata": {
        "id": "04177164-9d79-460e-8594-17c5a1309380"
      },
      "source": [
        "#### c) (1 punt)\n",
        "Desenvolupa un programa que regui el camp (sustitueixi tots els \"-\" per aigua (A)."
      ]
    },
    {
      "cell_type": "code",
      "execution_count": null,
      "id": "a858c60b-8a8f-4ef1-a148-22cbf122b496",
      "metadata": {
        "execution": {
          "iopub.execute_input": "2022-11-14T16:11:16.087706Z",
          "iopub.status.busy": "2022-11-14T16:11:16.087316Z",
          "iopub.status.idle": "2022-11-14T16:11:16.090600Z",
          "shell.execute_reply": "2022-11-14T16:11:16.089930Z",
          "shell.execute_reply.started": "2022-11-14T16:11:16.087688Z"
        },
        "id": "a858c60b-8a8f-4ef1-a148-22cbf122b496"
      },
      "outputs": [],
      "source": [
        "# TODO"
      ]
    },
    {
      "cell_type": "markdown",
      "id": "d8c41bdf-0afb-470f-b77a-0d6c3e881afc",
      "metadata": {
        "id": "d8c41bdf-0afb-470f-b77a-0d6c3e881afc"
      },
      "source": [
        "#### d) (1 punt)\n",
        "Agrupa els apartats a), b) i c) en un programa que demani a l'usuari què vol fer (mostrar, plantar, regar o sortir). Aquest programa s'ha d'executar fins que l'usuari digui prou."
      ]
    },
    {
      "cell_type": "code",
      "execution_count": null,
      "id": "d2650cae-ebb5-4197-81f3-839a3bedc8d3",
      "metadata": {
        "execution": {
          "iopub.execute_input": "2022-11-14T16:12:16.136383Z",
          "iopub.status.busy": "2022-11-14T16:12:16.135683Z",
          "iopub.status.idle": "2022-11-14T16:12:16.139105Z",
          "shell.execute_reply": "2022-11-14T16:12:16.138394Z",
          "shell.execute_reply.started": "2022-11-14T16:12:16.136367Z"
        },
        "id": "d2650cae-ebb5-4197-81f3-839a3bedc8d3"
      },
      "outputs": [],
      "source": [
        "# TODO"
      ]
    },
    {
      "cell_type": "markdown",
      "id": "29298e06-fa52-437a-aee4-897f7caba935",
      "metadata": {
        "id": "29298e06-fa52-437a-aee4-897f7caba935"
      },
      "source": [
        "## Exercicis addicionals optatius\n",
        "\n",
        "Pots substituir algun dels exercicis anteriors per a algun dels següents amb la condició que **la suma total de punts màxima que es permet resoldre són 10 punts**.\n",
        "\n",
        "**Nota**: si resols exercicis que sumin més de 10 punts, només es corregiran els primers exercicis resolts en l'ordre de l'enunciat."
      ]
    },
    {
      "cell_type": "markdown",
      "id": "9a1d30a6-47bd-4780-816f-6608a30938ea",
      "metadata": {
        "id": "9a1d30a6-47bd-4780-816f-6608a30938ea"
      },
      "source": [
        "## Exercici 4 - (4 punts)\n",
        "\n",
        "Una empresa ha comptabilitzat les següents hores dels seus treballadors. Donades les següents comandes, realitza el que es demana a cada apartat. "
      ]
    },
    {
      "cell_type": "markdown",
      "id": "b3854e9c-02e8-45c2-97d5-4ec46544fa49",
      "metadata": {
        "id": "b3854e9c-02e8-45c2-97d5-4ec46544fa49"
      },
      "source": [
        "Cada component de la llista es correspon amb la posició de les altres excepte en la llista ``sueldo_hora``. Per exemple, Antonio té 28 hores diürnes i 12 hores nocturnes:\n",
        "\n",
        "```\n",
        "nombres = [‘Antonio’,`María`,`Laura`,`Xavi`]\n",
        "horas_diurnas = [28 , 50 , 30 , 15]\n",
        "horas_nocturnas = [12 , 5 , 15 , 35]\n",
        "sueldo_hora = [15.5 , 20.5]\n",
        "ditc={}\n",
        "```"
      ]
    },
    {
      "cell_type": "markdown",
      "id": "3857bcd9-4e80-489c-9d95-827a414d73b3",
      "metadata": {
        "id": "3857bcd9-4e80-489c-9d95-827a414d73b3"
      },
      "source": [
        "#### a) (1 punt)\n",
        "\n",
        "Realitza un codi que obtingui un diccionari on les key siguin els noms de les persones i els value una llista de dos components; el primer les hores diürnes de cada persona multiplicades per la primera component de la llista sueldo_hora, i el segon les hores nocturnes de cada persona multiplicades per la segona component de la llista sueldo_hora. S’ha d’obtenir una línea similar a la següent:\n",
        "\n",
        "![](images/hores01.png)"
      ]
    },
    {
      "cell_type": "code",
      "execution_count": null,
      "id": "3f6413d3-1220-4ae5-a108-f047e19140b5",
      "metadata": {
        "id": "3f6413d3-1220-4ae5-a108-f047e19140b5"
      },
      "outputs": [],
      "source": [
        "# TODO"
      ]
    },
    {
      "cell_type": "markdown",
      "id": "2bd7ce2e-007b-425a-b0cb-dbd9bea38f7d",
      "metadata": {
        "id": "2bd7ce2e-007b-425a-b0cb-dbd9bea38f7d"
      },
      "source": [
        "Afegeix al diccionari una nova persona “Juan”, que treballa 10 hores diürnes i 20 hores diürnes. \n",
        "\n",
        "![](images/hores02.png)"
      ]
    },
    {
      "cell_type": "code",
      "execution_count": null,
      "id": "5b13a5ba-c816-4805-b8a5-7cf84e164dd0",
      "metadata": {
        "id": "5b13a5ba-c816-4805-b8a5-7cf84e164dd0"
      },
      "outputs": [],
      "source": [
        "# TODO"
      ]
    },
    {
      "cell_type": "markdown",
      "id": "01302ff5-ccad-4af3-ba2d-2c028b4da89b",
      "metadata": {
        "id": "01302ff5-ccad-4af3-ba2d-2c028b4da89b"
      },
      "source": [
        "#### b) (1 punt)\n",
        "\n",
        "Calcula el sou net que li queda a cada persona tenint en compte les següent consideracions: Si el sou és major de 300, s’aplica una retenció del 12%, en cas contrari, del 10%. \n",
        "\n",
        "La sortida ha de ser la següent per a cada persona:\n",
        "\n",
        "![](images/output.png)"
      ]
    },
    {
      "cell_type": "code",
      "execution_count": null,
      "id": "b47fd695-5851-4f79-ac5c-038330c6bc45",
      "metadata": {
        "id": "b47fd695-5851-4f79-ac5c-038330c6bc45"
      },
      "outputs": [],
      "source": [
        "# TODO"
      ]
    },
    {
      "cell_type": "markdown",
      "id": "d4186277-b313-4a5e-9792-92b35e2339a8",
      "metadata": {
        "id": "d4186277-b313-4a5e-9792-92b35e2339a8"
      },
      "source": [
        "#### c) (1 punt)\n",
        "\n",
        "Per polítiques d’empresa, s’ha decidit pagar un extra de 200 € lliures d’impostos a la Laura a causa del seu aniversari. Mostra el que cobra en total.\n"
      ]
    },
    {
      "cell_type": "code",
      "execution_count": null,
      "id": "7726025b-99f8-436f-9abe-21066e8e8d6b",
      "metadata": {
        "id": "7726025b-99f8-436f-9abe-21066e8e8d6b"
      },
      "outputs": [],
      "source": [
        "# TODO"
      ]
    },
    {
      "cell_type": "markdown",
      "id": "91cc3a0f-5864-4bad-b4f9-a6a72b3dca5c",
      "metadata": {
        "id": "91cc3a0f-5864-4bad-b4f9-a6a72b3dca5c"
      },
      "source": [
        "#### d) (1 punt)\n",
        "\n",
        "Si tota la feina realitzada pels treballadors aporta un total de 3500 €, indica si l’empresa té beneficis o pèrdues mostrant-ho en un print."
      ]
    },
    {
      "cell_type": "code",
      "execution_count": null,
      "id": "c896425b-dcb6-4192-be4d-e19546ba151f",
      "metadata": {
        "id": "c896425b-dcb6-4192-be4d-e19546ba151f"
      },
      "outputs": [],
      "source": [
        "# TODO"
      ]
    },
    {
      "cell_type": "markdown",
      "id": "71e01766-7ec6-47a8-8c60-8f4d92035eea",
      "metadata": {
        "id": "71e01766-7ec6-47a8-8c60-8f4d92035eea"
      },
      "source": [
        "## Exercici 5 - (2 punts)\n",
        "\n",
        "Fes snippets, usant bucles i condicionals, que printing per pantalla les següents figures, tenint en compte el valor d'un número enter n, que determinarà l'amplada màxima de les figures:"
      ]
    },
    {
      "cell_type": "markdown",
      "id": "167b0b29-0160-492a-82d7-6a5e45c89050",
      "metadata": {
        "id": "167b0b29-0160-492a-82d7-6a5e45c89050"
      },
      "source": [
        "#### a) Triangle invertit (1 punt)\n",
        "\n",
        "Per exemple, per a n = 14 ha de quedar així:\n",
        "\n",
        "```\n",
        "**************\n",
        " ************\n",
        "  **********\n",
        "   ********\n",
        "    ******\n",
        "     ****\n",
        "      **\n",
        "```"
      ]
    },
    {
      "cell_type": "code",
      "execution_count": null,
      "id": "3428ee77-107b-40f3-877d-bcb648b6bd94",
      "metadata": {
        "id": "3428ee77-107b-40f3-877d-bcb648b6bd94"
      },
      "outputs": [],
      "source": [
        "# TODO"
      ]
    },
    {
      "cell_type": "markdown",
      "id": "516136b5-edc6-48b5-8e09-57eb46a8c953",
      "metadata": {
        "id": "516136b5-edc6-48b5-8e09-57eb46a8c953"
      },
      "source": [
        "#### b) Arbre de Nadal (1 punt)\n",
        "\n",
        "Per exemple, per a n = 14 ha de quedar així:\n",
        "\n",
        "```\n",
        "      **\n",
        "     ****\n",
        "    ******\n",
        "   ********\n",
        "  ********** \n",
        " ************\n",
        "**************\n",
        "     ****     \n",
        "     ****\n",
        "```"
      ]
    },
    {
      "cell_type": "code",
      "execution_count": null,
      "id": "557954fe-4de4-4d3e-bdc2-3e15f8d1d901",
      "metadata": {
        "id": "557954fe-4de4-4d3e-bdc2-3e15f8d1d901"
      },
      "outputs": [],
      "source": [
        "# TODO"
      ]
    },
    {
      "cell_type": "code",
      "execution_count": null,
      "id": "e0474edb-cccc-4544-b513-538607990708",
      "metadata": {
        "id": "e0474edb-cccc-4544-b513-538607990708"
      },
      "outputs": [],
      "source": []
    }
  ],
  "metadata": {
    "kernelspec": {
      "display_name": "Python 3",
      "language": "python",
      "name": "python3"
    },
    "language_info": {
      "codemirror_mode": {
        "name": "ipython",
        "version": 3
      },
      "file_extension": ".py",
      "mimetype": "text/x-python",
      "name": "python",
      "nbconvert_exporter": "python",
      "pygments_lexer": "ipython3",
      "version": "3.10.6"
    },
    "colab": {
      "provenance": [],
      "include_colab_link": true
    }
  },
  "nbformat": 4,
  "nbformat_minor": 5
}